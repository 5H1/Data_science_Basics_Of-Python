{
 "cells": [
  {
   "cell_type": "code",
   "execution_count": 7,
   "id": "d941a547-4879-4184-809d-3dcf8640791e",
   "metadata": {},
   "outputs": [],
   "source": [
    "##Program 1\n",
    "##Write a Python program that checks whether a given number is prime or not. \n",
    "##A prime number is a natural number greater than 1 that has no positive divisors other than 1 and itself."
   ]
  },
  {
   "cell_type": "code",
   "execution_count": 38,
   "id": "4b95311c-568d-40f9-b8b9-96ee1727233e",
   "metadata": {},
   "outputs": [],
   "source": [
    "##n is an input number\n",
    "def test_prime(n):\n",
    "    if n==1:\n",
    "        return \"not prime\"\n",
    "    elif n==2:\n",
    "        return \"Yes\"\n",
    "    else:\n",
    "        for i in range(2,n):\n",
    "            if(n%i==0):\n",
    "                return \"not prime\"\n",
    "        return \"prime\""
   ]
  },
  {
   "cell_type": "code",
   "execution_count": 33,
   "id": "c0b02f83-dc7d-4c8b-88fd-8a6899056f63",
   "metadata": {},
   "outputs": [
    {
     "data": {
      "text/plain": [
       "'not prime'"
      ]
     },
     "execution_count": 33,
     "metadata": {},
     "output_type": "execute_result"
    }
   ],
   "source": [
    "## testing a not prime number\n",
    "test_prime(1)"
   ]
  },
  {
   "cell_type": "code",
   "execution_count": 35,
   "id": "2892ea52-2502-4c73-91e4-601f8cbd95d2",
   "metadata": {},
   "outputs": [
    {
     "data": {
      "text/plain": [
       "'prime'"
      ]
     },
     "execution_count": 35,
     "metadata": {},
     "output_type": "execute_result"
    }
   ],
   "source": [
    "## giving input as a prime number\n",
    "test_prime(13)"
   ]
  },
  {
   "cell_type": "code",
   "execution_count": null,
   "id": "aa3e9342-062e-41c7-90ea-fea002c2cd02",
   "metadata": {},
   "outputs": [],
   "source": [
    "##Exercise 2: Product of Random Numbers\n",
    "##Develop a Python program that generates two random numbers and asks the user to enter the product of these numbers. \n",
    "##The program should then check if the user's answer is correct and display an appropriate message."
   ]
  },
  {
   "cell_type": "code",
   "execution_count": 4,
   "id": "85f8c9c4-74ee-4859-adcc-879c557fb8fa",
   "metadata": {},
   "outputs": [
    {
     "name": "stdin",
     "output_type": "stream",
     "text": [
      "What will be the product of 9 and 2?  8\n"
     ]
    },
    {
     "name": "stdout",
     "output_type": "stream",
     "text": [
      "Not the correct product and The correct product is 18.\n"
     ]
    }
   ],
   "source": [
    "##solution\n",
    "##importing random module which generates any 2 random  numbers within given ranges\n",
    "import random\n",
    "def generating_randomnumbers():\n",
    "    ##generating random numbers between 1 to 10\n",
    "    ##it will return a tuple of these numbers\n",
    "    numb1 = random.randint(1, 10)\n",
    "    numb2 = random.randint(1, 10)\n",
    "    return numb1, numb2\n",
    "def main():\n",
    "    # Generating the two random numbers\n",
    "    numb1, numb2 = generating_randomnumbers()\n",
    "    \n",
    "    # Asking the user to calculate the product\n",
    "    user_input = int(input(f\"What will be the product of {numb1} and {numb2}? \"))\n",
    "\n",
    "    # Calculating original product that is the actual product\n",
    "    actual_product = numb1 * numb2\n",
    "\n",
    "    # Check if the user's answer is correct\n",
    "    if user_input == actual_product:\n",
    "        print(\"Yes..Correct \")\n",
    "    else:\n",
    "        print(f\"Not the correct product and The correct product is {actual_product}.\")\n",
    "\n",
    "# Run the main function\n",
    "if __name__ == \"__main__\":\n",
    "    main()"
   ]
  },
  {
   "cell_type": "code",
   "execution_count": null,
   "id": "cc8020f6-638b-421c-bd6c-7e453c4e24a1",
   "metadata": {},
   "outputs": [],
   "source": [
    "##Exercise 3: Squares of Even/Odd Numbers\n",
    "##Create a Python script that prints the squares of all even or odd numbers within the range of 100 to 200.\n",
    "##Choose either even or odd numbers and document your choice in the code."
   ]
  },
  {
   "cell_type": "code",
   "execution_count": 9,
   "id": "33a069e3-d8b8-4dd6-af51-c1d67504f181",
   "metadata": {},
   "outputs": [
    {
     "name": "stdout",
     "output_type": "stream",
     "text": [
      "The square of the number for the even number 100 is 10000\n",
      "The square of the number for the even number 102 is 10404\n",
      "The square of the number for the even number 104 is 10816\n",
      "The square of the number for the even number 106 is 11236\n",
      "The square of the number for the even number 108 is 11664\n",
      "The square of the number for the even number 110 is 12100\n",
      "The square of the number for the even number 112 is 12544\n",
      "The square of the number for the even number 114 is 12996\n",
      "The square of the number for the even number 116 is 13456\n",
      "The square of the number for the even number 118 is 13924\n",
      "The square of the number for the even number 120 is 14400\n",
      "The square of the number for the even number 122 is 14884\n",
      "The square of the number for the even number 124 is 15376\n",
      "The square of the number for the even number 126 is 15876\n",
      "The square of the number for the even number 128 is 16384\n",
      "The square of the number for the even number 130 is 16900\n",
      "The square of the number for the even number 132 is 17424\n",
      "The square of the number for the even number 134 is 17956\n",
      "The square of the number for the even number 136 is 18496\n",
      "The square of the number for the even number 138 is 19044\n",
      "The square of the number for the even number 140 is 19600\n",
      "The square of the number for the even number 142 is 20164\n",
      "The square of the number for the even number 144 is 20736\n",
      "The square of the number for the even number 146 is 21316\n",
      "The square of the number for the even number 148 is 21904\n",
      "The square of the number for the even number 150 is 22500\n",
      "The square of the number for the even number 152 is 23104\n",
      "The square of the number for the even number 154 is 23716\n",
      "The square of the number for the even number 156 is 24336\n",
      "The square of the number for the even number 158 is 24964\n",
      "The square of the number for the even number 160 is 25600\n",
      "The square of the number for the even number 162 is 26244\n",
      "The square of the number for the even number 164 is 26896\n",
      "The square of the number for the even number 166 is 27556\n",
      "The square of the number for the even number 168 is 28224\n",
      "The square of the number for the even number 170 is 28900\n",
      "The square of the number for the even number 172 is 29584\n",
      "The square of the number for the even number 174 is 30276\n",
      "The square of the number for the even number 176 is 30976\n",
      "The square of the number for the even number 178 is 31684\n",
      "The square of the number for the even number 180 is 32400\n",
      "The square of the number for the even number 182 is 33124\n",
      "The square of the number for the even number 184 is 33856\n",
      "The square of the number for the even number 186 is 34596\n",
      "The square of the number for the even number 188 is 35344\n",
      "The square of the number for the even number 190 is 36100\n",
      "The square of the number for the even number 192 is 36864\n",
      "The square of the number for the even number 194 is 37636\n",
      "The square of the number for the even number 196 is 38416\n",
      "The square of the number for the even number 198 is 39204\n",
      "The square of the number for the even number 200 is 40000\n"
     ]
    }
   ],
   "source": [
    "##first method\n",
    "##selecting the even numbers from 100 to 200\n",
    "def print_squares(nstart, nend):\n",
    "    # for Loop for squaring \n",
    "    for num in range(nstart, nend + 1):\n",
    "        # Checking if the number is even\n",
    "        if num % 2 == 0:\n",
    "            # Printing the square of the number\n",
    "            print(f\"The square of the number for the even number {num} is {num ** 2}\")\n",
    "\n",
    "\n",
    "# Defining the starting range(nstart) and the ending range(nend)\n",
    "nstart = 100\n",
    "nend = 200\n",
    "\n",
    "# Calling the function for printing squares of numbers\n",
    "print_squares(nstart, nend)"
   ]
  },
  {
   "cell_type": "code",
   "execution_count": 6,
   "id": "61b663e9-8886-4d58-92ea-c27178bca2bd",
   "metadata": {},
   "outputs": [
    {
     "name": "stdout",
     "output_type": "stream",
     "text": [
      "The square of the odd number for 101 is 10201\n",
      "The square of the odd number for 103 is 10609\n",
      "The square of the odd number for 105 is 11025\n",
      "The square of the odd number for 107 is 11449\n",
      "The square of the odd number for 109 is 11881\n",
      "The square of the odd number for 111 is 12321\n",
      "The square of the odd number for 113 is 12769\n",
      "The square of the odd number for 115 is 13225\n",
      "The square of the odd number for 117 is 13689\n",
      "The square of the odd number for 119 is 14161\n",
      "The square of the odd number for 121 is 14641\n",
      "The square of the odd number for 123 is 15129\n",
      "The square of the odd number for 125 is 15625\n",
      "The square of the odd number for 127 is 16129\n",
      "The square of the odd number for 129 is 16641\n",
      "The square of the odd number for 131 is 17161\n",
      "The square of the odd number for 133 is 17689\n",
      "The square of the odd number for 135 is 18225\n",
      "The square of the odd number for 137 is 18769\n",
      "The square of the odd number for 139 is 19321\n",
      "The square of the odd number for 141 is 19881\n",
      "The square of the odd number for 143 is 20449\n",
      "The square of the odd number for 145 is 21025\n",
      "The square of the odd number for 147 is 21609\n",
      "The square of the odd number for 149 is 22201\n",
      "The square of the odd number for 151 is 22801\n",
      "The square of the odd number for 153 is 23409\n",
      "The square of the odd number for 155 is 24025\n",
      "The square of the odd number for 157 is 24649\n",
      "The square of the odd number for 159 is 25281\n",
      "The square of the odd number for 161 is 25921\n",
      "The square of the odd number for 163 is 26569\n",
      "The square of the odd number for 165 is 27225\n",
      "The square of the odd number for 167 is 27889\n",
      "The square of the odd number for 169 is 28561\n",
      "The square of the odd number for 171 is 29241\n",
      "The square of the odd number for 173 is 29929\n",
      "The square of the odd number for 175 is 30625\n",
      "The square of the odd number for 177 is 31329\n",
      "The square of the odd number for 179 is 32041\n",
      "The square of the odd number for 181 is 32761\n",
      "The square of the odd number for 183 is 33489\n",
      "The square of the odd number for 185 is 34225\n",
      "The square of the odd number for 187 is 34969\n",
      "The square of the odd number for 189 is 35721\n",
      "The square of the odd number for 191 is 36481\n",
      "The square of the odd number for 193 is 37249\n",
      "The square of the odd number for 195 is 38025\n",
      "The square of the odd number for 197 is 38809\n",
      "The square of the odd number for 199 is 39601\n"
     ]
    }
   ],
   "source": [
    "#second method 2\n",
    "##considering the odd numbers\n",
    "def print_squares(nstart, nend):\n",
    "    # for Loop for squaring \n",
    "    for num in range(nstart, nend + 1):\n",
    "        # Checking if the number is not even\n",
    "        if num % 2 != 0:\n",
    "            # Printing the square of the number\n",
    "            print(f\"The square of the odd number for {num} is {num ** 2}\")\n",
    "\n",
    "# Defining the starting range(nstart) and the ending range(nend)\n",
    "nstart = 100\n",
    "nend = 200\n",
    "\n",
    "# Calling the function for printing squares of numbers\n",
    "print_squares(nstart, nend)"
   ]
  },
  {
   "cell_type": "code",
   "execution_count": 114,
   "id": "455f2684-437a-4539-a497-af16863085f7",
   "metadata": {},
   "outputs": [],
   "source": [
    "##Exercise 4: Word counter\n",
    "##write a program to count the number of words in a given text."
   ]
  },
  {
   "cell_type": "code",
   "execution_count": 120,
   "id": "67454903-1da6-4058-a267-e782f2416249",
   "metadata": {},
   "outputs": [
    {
     "name": "stdin",
     "output_type": "stream",
     "text": [
      "Enter the text hi this is a demo \n"
     ]
    },
    {
     "name": "stdout",
     "output_type": "stream",
     "text": [
      "Word counts in the given text:\n",
      "'hi': 1\n",
      "'this': 1\n",
      "'is': 1\n",
      "'a': 1\n",
      "'demo': 1\n"
     ]
    }
   ],
   "source": [
    "## since in the given question they have asked to display like text and length we are importing Counter\n",
    "## Counter will counts the number of words and it will return in the form of a dictionary with keys and values\n",
    "## then the keys will be the words and values will be the occurences\n",
    "from collections import Counter\n",
    "\n",
    "def counting_occurences(text):\n",
    "   \n",
    "    # Splitting the input text \n",
    "    no_words = text.split()\n",
    "    # Count the repetitions for each word\n",
    "    word_counts = Counter(no_words)\n",
    "    # Return the word counts\n",
    "    return word_counts\n",
    "\n",
    "## let us consider the text as follows\n",
    "input_text = input(\"Enter the text\")\n",
    "word_counts1 = counting_occurences(input_text)\n",
    "\n",
    "# Printing the word counts\n",
    "print(\"Word counts in the given text:\")\n",
    "for word, count in word_counts1.items():\n",
    "    print(f\"'{word}': {count}\")\n"
   ]
  },
  {
   "cell_type": "code",
   "execution_count": null,
   "id": "4fa98e69-c790-4e4c-b891-f7c3f86031cf",
   "metadata": {},
   "outputs": [],
   "source": [
    "##Exercise 5: Check for Palindrome\n",
    "##Write a Python function called is_palindrome that takes a string as input and returns True if the string is a palindrome,and False otherwise. \n",
    "##A palindrome is a word, phrase, number, or other sequence of characters that reads the same forward and backward, \n",
    "##ignoring spaces, punctuation, and capitalization.\n",
    "##Example:\n",
    "##Input: \"racecar\"\n",
    "##Expected Output: True"
   ]
  },
  {
   "cell_type": "code",
   "execution_count": 148,
   "id": "7ba8ed09-73ae-479e-bdb4-7d382f7ba0d3",
   "metadata": {},
   "outputs": [
    {
     "data": {
      "text/plain": [
       "'Yes it is a palindrome'"
      ]
     },
     "execution_count": 148,
     "metadata": {},
     "output_type": "execute_result"
    }
   ],
   "source": [
    "## method 1\n",
    "## a simple function is defined for checking the starting of the string and from the ending of the string that is reverse\n",
    "def check_palindrome(text):\n",
    "    if text==text[::-1]:\n",
    "        return \"Yes it is a palindrome\"\n",
    "    else:\n",
    "        return \"It is not a palindrome\"\n",
    "        \n",
    "##providing input\n",
    "##and checking whether a palindrome or not\n",
    "check_palindrome(\"racecar\")        "
   ]
  },
  {
   "cell_type": "code",
   "execution_count": 170,
   "id": "d43fc135-f678-48e7-b4fc-80f1a69b5752",
   "metadata": {},
   "outputs": [
    {
     "name": "stdin",
     "output_type": "stream",
     "text": [
      "Enter a string for checking palindrome:  hih\n"
     ]
    },
    {
     "name": "stdout",
     "output_type": "stream",
     "text": [
      "'hih' is a Palindrome.\n"
     ]
    }
   ],
   "source": [
    "## method 2\n",
    "## removing the spaces and punctuation also converting to the lower case text\n",
    "import string\n",
    "\n",
    "def isa_palindrome(input):\n",
    "    ##input is the user input calling into the function\n",
    "    # returns true if is a palindrome\n",
    "    ## returns false if not a palindrome\n",
    "    \n",
    "    # Removing spaces, punctuation, and also converting to the lowercase characters\n",
    "    new_text = ''.join(char.lower() for char in input if char.isalnum())\n",
    "    \n",
    "    # Checking if the transformed text will be same from forward and reverse that is from the backward\n",
    "    return new_text == new_text[::-1]\n",
    "\n",
    "## giving input\n",
    "user_input = input(\"Enter a string for checking palindrome: \")\n",
    "##executing the written function\n",
    "if isa_palindrome(user_input):\n",
    "    print(f\"'{user_input}' is a Palindrome.\")\n",
    "else:\n",
    "    print(f\"'{user_input}' is not a Palindrome.\")\n",
    "    "
   ]
  },
  {
   "cell_type": "code",
   "execution_count": null,
   "id": "9bb3349f-b7e7-4a1e-96ca-a612c9049fe4",
   "metadata": {},
   "outputs": [],
   "source": []
  }
 ],
 "metadata": {
  "kernelspec": {
   "display_name": "anaconda-panel-2023.05-py310",
   "language": "python",
   "name": "conda-env-anaconda-panel-2023.05-py310-py"
  },
  "language_info": {
   "codemirror_mode": {
    "name": "ipython",
    "version": 3
   },
   "file_extension": ".py",
   "mimetype": "text/x-python",
   "name": "python",
   "nbconvert_exporter": "python",
   "pygments_lexer": "ipython3",
   "version": "3.11.5"
  }
 },
 "nbformat": 4,
 "nbformat_minor": 5
}
